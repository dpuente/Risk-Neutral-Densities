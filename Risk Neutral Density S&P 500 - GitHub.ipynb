{
 "cells": [
  {
   "cell_type": "code",
   "execution_count": 1,
   "metadata": {},
   "outputs": [],
   "source": [
    "%matplotlib inline\n",
    "import pandas as pd\n",
    "import numpy as np\n",
    "import seaborn as sns\n",
    "import matplotlib.pyplot as plt\n",
    "from scipy.stats import norm"
   ]
  },
  {
   "cell_type": "code",
   "execution_count": 2,
   "metadata": {},
   "outputs": [],
   "source": [
    "import warnings\n",
    "warnings.filterwarnings(\"ignore\")"
   ]
  },
  {
   "cell_type": "code",
   "execution_count": 3,
   "metadata": {},
   "outputs": [],
   "source": [
    "red, blue = ['#FF0054', '#146EE8']"
   ]
  },
  {
   "cell_type": "markdown",
   "metadata": {},
   "source": [
    "## Process\n",
    "\n",
    "- Download index option data\n",
    "- Only use OTM put and calls (more liquid)\n",
    "- Estimate implied volatility $\\sigma(K)$ for different strike prices $K$\n",
    "- Interpolate $\\sigma(K)$ for a dense set of strike prices $K$. Use fourth degree spline.\n",
    "- Estimate corresponding BSM option prices from interpolated $\\sigma(K)$\n",
    "- Use Breeden-Litzenberger equation to estimate the Risk Neutral Density (RND) of underlying asset.\n",
    "- Add tails using the Generalized Extreme Value (GEV) distribution.\n",
    "\n",
    "**Data Sources**\n",
    "- Option Metrics\n",
    "- CRSP"
   ]
  },
  {
   "cell_type": "code",
   "execution_count": 4,
   "metadata": {},
   "outputs": [],
   "source": [
    "df = pd.read_csv('options_data.csv', encoding = 'ISO-8859-1')"
   ]
  },
  {
   "cell_type": "code",
   "execution_count": 5,
   "metadata": {},
   "outputs": [
    {
     "data": {
      "text/html": [
       "<div>\n",
       "<style scoped>\n",
       "    .dataframe tbody tr th:only-of-type {\n",
       "        vertical-align: middle;\n",
       "    }\n",
       "\n",
       "    .dataframe tbody tr th {\n",
       "        vertical-align: top;\n",
       "    }\n",
       "\n",
       "    .dataframe thead th {\n",
       "        text-align: right;\n",
       "    }\n",
       "</style>\n",
       "<table border=\"1\" class=\"dataframe\">\n",
       "  <thead>\n",
       "    <tr style=\"text-align: right;\">\n",
       "      <th></th>\n",
       "      <th>secid</th>\n",
       "      <th>date</th>\n",
       "      <th>symbol</th>\n",
       "      <th>symbol_flag</th>\n",
       "      <th>exdate</th>\n",
       "      <th>last_date</th>\n",
       "      <th>cp_flag</th>\n",
       "      <th>strike_price</th>\n",
       "      <th>best_bid</th>\n",
       "      <th>best_offer</th>\n",
       "      <th>...</th>\n",
       "      <th>div_convention</th>\n",
       "      <th>exercise_style</th>\n",
       "      <th>am_set_flag</th>\n",
       "      <th>option_price</th>\n",
       "      <th>K</th>\n",
       "      <th>days_to_expiration</th>\n",
       "      <th>spindx</th>\n",
       "      <th>S</th>\n",
       "      <th>r</th>\n",
       "      <th>q</th>\n",
       "    </tr>\n",
       "  </thead>\n",
       "  <tbody>\n",
       "    <tr>\n",
       "      <th>0</th>\n",
       "      <td>108105</td>\n",
       "      <td>18/1/07</td>\n",
       "      <td>SPQ.NJ</td>\n",
       "      <td>0</td>\n",
       "      <td>17/2/07</td>\n",
       "      <td>20070117.0</td>\n",
       "      <td>P</td>\n",
       "      <td>1050000</td>\n",
       "      <td>0.0</td>\n",
       "      <td>0.25</td>\n",
       "      <td>...</td>\n",
       "      <td>I</td>\n",
       "      <td>E</td>\n",
       "      <td>1</td>\n",
       "      <td>0.125</td>\n",
       "      <td>1050</td>\n",
       "      <td>30</td>\n",
       "      <td>1426.37</td>\n",
       "      <td>1426.37</td>\n",
       "      <td>0.053728</td>\n",
       "      <td>0.019826</td>\n",
       "    </tr>\n",
       "    <tr>\n",
       "      <th>1</th>\n",
       "      <td>108105</td>\n",
       "      <td>18/1/07</td>\n",
       "      <td>SPQ.NO</td>\n",
       "      <td>0</td>\n",
       "      <td>17/2/07</td>\n",
       "      <td>NaN</td>\n",
       "      <td>P</td>\n",
       "      <td>1075000</td>\n",
       "      <td>0.0</td>\n",
       "      <td>0.25</td>\n",
       "      <td>...</td>\n",
       "      <td>I</td>\n",
       "      <td>E</td>\n",
       "      <td>1</td>\n",
       "      <td>0.125</td>\n",
       "      <td>1075</td>\n",
       "      <td>30</td>\n",
       "      <td>1426.37</td>\n",
       "      <td>1426.37</td>\n",
       "      <td>0.053728</td>\n",
       "      <td>0.019826</td>\n",
       "    </tr>\n",
       "  </tbody>\n",
       "</table>\n",
       "<p>2 rows × 41 columns</p>\n",
       "</div>"
      ],
      "text/plain": [
       "    secid     date  symbol  symbol_flag   exdate   last_date cp_flag  \\\n",
       "0  108105  18/1/07  SPQ.NJ            0  17/2/07  20070117.0       P   \n",
       "1  108105  18/1/07  SPQ.NO            0  17/2/07         NaN       P   \n",
       "\n",
       "   strike_price  best_bid  best_offer    ...     div_convention  \\\n",
       "0       1050000       0.0        0.25    ...                  I   \n",
       "1       1075000       0.0        0.25    ...                  I   \n",
       "\n",
       "   exercise_style  am_set_flag  option_price     K  days_to_expiration  \\\n",
       "0               E            1         0.125  1050                  30   \n",
       "1               E            1         0.125  1075                  30   \n",
       "\n",
       "    spindx        S         r         q  \n",
       "0  1426.37  1426.37  0.053728  0.019826  \n",
       "1  1426.37  1426.37  0.053728  0.019826  \n",
       "\n",
       "[2 rows x 41 columns]"
      ]
     },
     "execution_count": 5,
     "metadata": {},
     "output_type": "execute_result"
    }
   ],
   "source": [
    "df.head(2)"
   ]
  },
  {
   "cell_type": "code",
   "execution_count": 6,
   "metadata": {},
   "outputs": [
    {
     "data": {
      "text/plain": [
       "(4374, 41)"
      ]
     },
     "execution_count": 6,
     "metadata": {},
     "output_type": "execute_result"
    }
   ],
   "source": [
    "df = pd.read_csv('options_data.csv', encoding = 'ISO-8859-1')\n",
    "\n",
    "## Keep only S&P500 options\n",
    "df = df[df['ticker']=='SPX']\n",
    "\n",
    "## Calculate mid-point price\n",
    "df['option_price'] = (df['best_offer'] + df['best_bid'])/2\n",
    "\n",
    "# Add formatted dates\n",
    "df['exdate'] = pd.to_datetime(df.exdate)\n",
    "df['date'] = pd.to_datetime(df.date)\n",
    "\n",
    "# Keep only European\n",
    "df = df[df['exercise_style']=='E']\n",
    "\n",
    "# Get strike price\n",
    "df['K'] = df['strike_price']/1000\n",
    "\n",
    "# Keep only 30 day options\n",
    "df['days_to_expiration'] = (df.exdate-df.date).dt.days\n",
    "df = df[df['days_to_expiration']==30]\n",
    "\n",
    "# Keep only OTM puts and calls\n",
    "df = df[np.abs(df.delta)<=0.5]\n",
    "\n",
    "df.shape"
   ]
  },
  {
   "cell_type": "markdown",
   "metadata": {},
   "source": [
    "## Black-Scholes-Merton formula"
   ]
  },
  {
   "cell_type": "markdown",
   "metadata": {},
   "source": [
    "$$\n",
    "C(S,K,\\tau,\\sigma) = Se^{-q\\tau}N(d1) - Ke^{-r\\tau}N(d2)\\\\\n",
    "P(S,K,\\tau,\\sigma) = Ke^{-r\\tau}N(-d2) - Se^{-q\\tau}N(-d1)\\\\\n",
    "d_1 = \\frac{ln\\left(\\frac{S}{Ke^{-r\\tau}}\\right) + \\left(r - q + \\frac{\\sigma^2}{2}\\right) \\tau}{\\sigma \\sqrt{\\tau}} \\\\\n",
    "d_2 = d_1 - \\sigma \\sqrt{\\tau}\n",
    "$$\n",
    "\n",
    "\n"
   ]
  },
  {
   "cell_type": "code",
   "execution_count": 7,
   "metadata": {},
   "outputs": [],
   "source": [
    "def call_price(S, K, tau, sigma, r, q):\n",
    "    '''tau: days to expiration'''\n",
    "    d1 = ( np.log(S*np.exp(-q*tau/365)/(K*np.exp(-r*tau/365))) + \n",
    "          (r - q + (sigma**2)/2)*tau/365 )/ (sigma * np.sqrt(tau/365))\n",
    "    \n",
    "    d2 = d1 - sigma* np.sqrt(tau/365)\n",
    "    \n",
    "    return (S*np.exp(-q*tau/365)*norm.cdf(d1) - K*np.exp(-r*tau/365)*norm.cdf(d2))"
   ]
  },
  {
   "cell_type": "code",
   "execution_count": 8,
   "metadata": {},
   "outputs": [],
   "source": [
    "def put_price(S, K, tau, sigma, r, q):\n",
    "    '''tau: days to expiration'''\n",
    "    d1 = ( np.log(S/(K*np.exp(-r*tau/365))) + \n",
    "          (r - q + (sigma**2)/2)*tau/365 )/ (sigma * np.sqrt(tau/365))\n",
    "    \n",
    "    d2 = d1 - sigma* np.sqrt(tau/365)\n",
    "    \n",
    "    return (K*np.exp(-r*tau/365)*norm.cdf(-d2)- S*np.exp(-q*tau/365)*norm.cdf(-d1))"
   ]
  },
  {
   "cell_type": "markdown",
   "metadata": {},
   "source": [
    "## BSM prices"
   ]
  },
  {
   "cell_type": "code",
   "execution_count": 9,
   "metadata": {},
   "outputs": [
    {
     "name": "stdout",
     "output_type": "stream",
     "text": [
      "23.058645437929744\n"
     ]
    },
    {
     "data": {
      "text/html": [
       "<div>\n",
       "<style scoped>\n",
       "    .dataframe tbody tr th:only-of-type {\n",
       "        vertical-align: middle;\n",
       "    }\n",
       "\n",
       "    .dataframe tbody tr th {\n",
       "        vertical-align: top;\n",
       "    }\n",
       "\n",
       "    .dataframe thead th {\n",
       "        text-align: right;\n",
       "    }\n",
       "</style>\n",
       "<table border=\"1\" class=\"dataframe\">\n",
       "  <thead>\n",
       "    <tr style=\"text-align: right;\">\n",
       "      <th></th>\n",
       "      <th>bsm_price</th>\n",
       "      <th>option_price</th>\n",
       "    </tr>\n",
       "  </thead>\n",
       "  <tbody>\n",
       "    <tr>\n",
       "      <th>10</th>\n",
       "      <td>0.185272</td>\n",
       "      <td>0.150</td>\n",
       "    </tr>\n",
       "    <tr>\n",
       "      <th>11</th>\n",
       "      <td>0.186770</td>\n",
       "      <td>0.150</td>\n",
       "    </tr>\n",
       "    <tr>\n",
       "      <th>12</th>\n",
       "      <td>0.157529</td>\n",
       "      <td>0.125</td>\n",
       "    </tr>\n",
       "    <tr>\n",
       "      <th>13</th>\n",
       "      <td>0.127687</td>\n",
       "      <td>0.100</td>\n",
       "    </tr>\n",
       "    <tr>\n",
       "      <th>14</th>\n",
       "      <td>0.220908</td>\n",
       "      <td>0.175</td>\n",
       "    </tr>\n",
       "  </tbody>\n",
       "</table>\n",
       "</div>"
      ],
      "text/plain": [
       "    bsm_price  option_price\n",
       "10   0.185272         0.150\n",
       "11   0.186770         0.150\n",
       "12   0.157529         0.125\n",
       "13   0.127687         0.100\n",
       "14   0.220908         0.175"
      ]
     },
     "execution_count": 9,
     "metadata": {},
     "output_type": "execute_result"
    }
   ],
   "source": [
    "# BSM call prices\n",
    "dfc = df[df['cp_flag']=='C']\n",
    "dfc['bsm_price'] = call_price(dfc['S'], dfc['K'],\n",
    "                              dfc['days_to_expiration'], dfc['impl_volatility'],\n",
    "                             dfc['r'], dfc['q'])\n",
    "\n",
    "## Check BSM prices are closed to those reported\n",
    "print(np.sqrt(np.sum((dfc['bsm_price'] - dfc['option_price'])**2)))\n",
    "dfc[['bsm_price', 'option_price']].head(5)"
   ]
  },
  {
   "cell_type": "code",
   "execution_count": 10,
   "metadata": {},
   "outputs": [
    {
     "name": "stdout",
     "output_type": "stream",
     "text": [
      "33.51480833521834\n"
     ]
    },
    {
     "data": {
      "text/html": [
       "<div>\n",
       "<style scoped>\n",
       "    .dataframe tbody tr th:only-of-type {\n",
       "        vertical-align: middle;\n",
       "    }\n",
       "\n",
       "    .dataframe tbody tr th {\n",
       "        vertical-align: top;\n",
       "    }\n",
       "\n",
       "    .dataframe thead th {\n",
       "        text-align: right;\n",
       "    }\n",
       "</style>\n",
       "<table border=\"1\" class=\"dataframe\">\n",
       "  <thead>\n",
       "    <tr style=\"text-align: right;\">\n",
       "      <th></th>\n",
       "      <th>bsm_price</th>\n",
       "      <th>option_price</th>\n",
       "    </tr>\n",
       "  </thead>\n",
       "  <tbody>\n",
       "    <tr>\n",
       "      <th>0</th>\n",
       "      <td>0.173390</td>\n",
       "      <td>0.125</td>\n",
       "    </tr>\n",
       "    <tr>\n",
       "      <th>1</th>\n",
       "      <td>0.172575</td>\n",
       "      <td>0.125</td>\n",
       "    </tr>\n",
       "    <tr>\n",
       "      <th>2</th>\n",
       "      <td>0.174830</td>\n",
       "      <td>0.125</td>\n",
       "    </tr>\n",
       "    <tr>\n",
       "      <th>3</th>\n",
       "      <td>0.201802</td>\n",
       "      <td>0.150</td>\n",
       "    </tr>\n",
       "    <tr>\n",
       "      <th>4</th>\n",
       "      <td>0.295140</td>\n",
       "      <td>0.225</td>\n",
       "    </tr>\n",
       "  </tbody>\n",
       "</table>\n",
       "</div>"
      ],
      "text/plain": [
       "   bsm_price  option_price\n",
       "0   0.173390         0.125\n",
       "1   0.172575         0.125\n",
       "2   0.174830         0.125\n",
       "3   0.201802         0.150\n",
       "4   0.295140         0.225"
      ]
     },
     "execution_count": 10,
     "metadata": {},
     "output_type": "execute_result"
    }
   ],
   "source": [
    "# BSM put prices\n",
    "dfp = df[df['cp_flag']=='P']\n",
    "dfp['bsm_price'] = put_price(dfp['S'], dfp['K'],\n",
    "                              dfp['days_to_expiration'], dfp['impl_volatility'],\n",
    "                             dfp['r'], dfp['q'])\n",
    "\n",
    "## Check BSM prices are closed to those reported\n",
    "print(np.sqrt(np.sum((dfp['bsm_price'] - dfp['option_price'])**2)))\n",
    "dfp[['bsm_price', 'option_price']].head(5)"
   ]
  },
  {
   "cell_type": "code",
   "execution_count": 11,
   "metadata": {},
   "outputs": [],
   "source": [
    "df['bsm_price'] = np.where(df['cp_flag']=='C', call_price(df['S'], df['K'],\n",
    "                              df['days_to_expiration'], df['impl_volatility'],\n",
    "                             df['r'], df['q']),\n",
    "                            put_price(df['S'], df['K'],\n",
    "                              df['days_to_expiration'], df['impl_volatility'],\n",
    "                             df['r'], df['q']))"
   ]
  },
  {
   "cell_type": "markdown",
   "metadata": {},
   "source": [
    "## Interpolate Implied Volatilities"
   ]
  },
  {
   "cell_type": "code",
   "execution_count": 12,
   "metadata": {},
   "outputs": [],
   "source": [
    "dates = df.date.value_counts().sort_index().index"
   ]
  },
  {
   "cell_type": "code",
   "execution_count": 13,
   "metadata": {},
   "outputs": [],
   "source": [
    "def rnd(date):\n",
    "    \n",
    "    df_date = df[df['date']==date][['K', 'impl_volatility', \n",
    "                                 'S', 'cp_flag', 'symbol', 'option_price', 'bsm_price',\n",
    "                                'days_to_expiration', 'r', 'q']]\n",
    "    \n",
    "    df_date = df_date.sort_values('K')\n",
    "    df_date = df_date.drop_duplicates('K')\n",
    "    \n",
    "    from scipy.interpolate import UnivariateSpline\n",
    "    x = df_date['K'].values\n",
    "    y = df_date['impl_volatility'].values\n",
    "    us = UnivariateSpline(x, y, k=4, s=len(x))\n",
    "\n",
    "    xs = np.arange(x[0], x[-1], 0.1)\n",
    "    ys = us(xs)\n",
    "\n",
    "    df_int = pd.DataFrame({'K':xs, 'impl_volatility':ys})\n",
    "    df_int['r'] = df_date['r'].mean()\n",
    "    df_int['q'] = df_date['q'].mean()\n",
    "    df_int['tau'] = df_date['days_to_expiration'].mean()\n",
    "    df_int['S'] = df_date['S'].mean()\n",
    "    df_int['cp_flag'] = np.where(df_int['K']<df_int['S'], 'P', 'C')\n",
    "\n",
    "    df_int['bsm_price'] = call_price(df_int['S'], \n",
    "                        df_int['K'],\n",
    "                        df_int['tau'], df_int['impl_volatility'],\n",
    "                        df_int['r'], df_int['q'])\n",
    "    \n",
    "    # Estimate density\n",
    "    df_int['l_bsm_price'] = df_int['bsm_price'].shift(1)\n",
    "    df_int['f_bsm_price'] = df_int['bsm_price'].shift(-1)\n",
    "\n",
    "    df_int['l_K'] = df_int['K'].shift(1)\n",
    "    df_int['f_K'] = df_int['K'].shift(-1)\n",
    "\n",
    "    df_int['density'] = np.exp(df_int['r']*df_int['tau'])*(df_int['f_bsm_price'] - \n",
    "         2*df_int['bsm_price'] + df_int['l_bsm_price'])/((df_int['f_K']\n",
    "        -df_int['K'])*(df_int['K'] - df_int['l_K']))\n",
    "    \n",
    "    df_int = df_int[df_int['density'].isnull()==False]\n",
    "\n",
    "    df_int['moneyness'] = round(df_int['K']/df_int['S'],2)\n",
    "    df_int['f_density'] = df_int['density'].shift(-1)\n",
    "    \n",
    "    df_int['cumulative'] = np.exp(df_int['r']*df_int['tau'])*(df_int['f_bsm_price']-df_int[\n",
    "        'l_bsm_price'])/(df_int['f_K'] - df_int['l_K']) + 1\n",
    "    \n",
    "    return df_int"
   ]
  },
  {
   "cell_type": "code",
   "execution_count": 14,
   "metadata": {},
   "outputs": [],
   "source": [
    "from scipy.optimize import fsolve\n",
    "from scipy.optimize import leastsq\n",
    "\n",
    "def equations(p, *con):\n",
    "    mu, sigma, eta = p\n",
    "    s1, s2, s3, c1, c2, c3 = con\n",
    "    return (np.exp(-(1+eta*((s1-mu)/sigma))**(-1/eta))-c1, \n",
    "            (np.exp(1+eta)**((-1/eta)-1))*np.exp(-(1+eta*((s2-mu)/sigma))**(-1/eta))-c2,\n",
    "           (np.exp(1+eta)**((-1/eta)-1))*np.exp(-(1+eta*((s3-mu)/sigma))**(-1/eta))-c3)\n",
    "\n",
    "def GEV(st, mu, sigma, eta):\n",
    "    return (np.exp(1+eta)**((-1/eta)-1))*np.exp(-(1+eta*((st-mu)/sigma))**(-1/eta))"
   ]
  },
  {
   "cell_type": "markdown",
   "metadata": {},
   "source": [
    "# October 2008"
   ]
  },
  {
   "cell_type": "code",
   "execution_count": 15,
   "metadata": {},
   "outputs": [],
   "source": [
    "date = dates[23]\n",
    "df_int = rnd(date)"
   ]
  },
  {
   "cell_type": "code",
   "execution_count": 16,
   "metadata": {},
   "outputs": [
    {
     "data": {
      "text/plain": [
       "Timestamp('2008-10-23 00:00:00')"
      ]
     },
     "execution_count": 16,
     "metadata": {},
     "output_type": "execute_result"
    }
   ],
   "source": [
    "date"
   ]
  },
  {
   "cell_type": "code",
   "execution_count": 17,
   "metadata": {},
   "outputs": [
    {
     "data": {
      "text/html": [
       "<div>\n",
       "<style scoped>\n",
       "    .dataframe tbody tr th:only-of-type {\n",
       "        vertical-align: middle;\n",
       "    }\n",
       "\n",
       "    .dataframe tbody tr th {\n",
       "        vertical-align: top;\n",
       "    }\n",
       "\n",
       "    .dataframe thead th {\n",
       "        text-align: right;\n",
       "    }\n",
       "</style>\n",
       "<table border=\"1\" class=\"dataframe\">\n",
       "  <thead>\n",
       "    <tr style=\"text-align: right;\">\n",
       "      <th></th>\n",
       "      <th>K</th>\n",
       "      <th>impl_volatility</th>\n",
       "      <th>r</th>\n",
       "      <th>q</th>\n",
       "      <th>tau</th>\n",
       "      <th>S</th>\n",
       "      <th>cp_flag</th>\n",
       "      <th>bsm_price</th>\n",
       "      <th>l_bsm_price</th>\n",
       "      <th>f_bsm_price</th>\n",
       "      <th>l_K</th>\n",
       "      <th>f_K</th>\n",
       "      <th>density</th>\n",
       "      <th>moneyness</th>\n",
       "      <th>f_density</th>\n",
       "      <th>cumulative</th>\n",
       "    </tr>\n",
       "  </thead>\n",
       "  <tbody>\n",
       "    <tr>\n",
       "      <th>1</th>\n",
       "      <td>300.1</td>\n",
       "      <td>1.481258</td>\n",
       "      <td>0.022273</td>\n",
       "      <td>0.020794</td>\n",
       "      <td>30.0</td>\n",
       "      <td>908.11</td>\n",
       "      <td>P</td>\n",
       "      <td>607.318414</td>\n",
       "      <td>607.417728</td>\n",
       "      <td>607.219101</td>\n",
       "      <td>300.0</td>\n",
       "      <td>300.2</td>\n",
       "      <td>0.000113</td>\n",
       "      <td>0.33</td>\n",
       "      <td>0.000113</td>\n",
       "      <td>-0.937310</td>\n",
       "    </tr>\n",
       "    <tr>\n",
       "      <th>2</th>\n",
       "      <td>300.2</td>\n",
       "      <td>1.481091</td>\n",
       "      <td>0.022273</td>\n",
       "      <td>0.020794</td>\n",
       "      <td>30.0</td>\n",
       "      <td>908.11</td>\n",
       "      <td>P</td>\n",
       "      <td>607.219101</td>\n",
       "      <td>607.318414</td>\n",
       "      <td>607.119789</td>\n",
       "      <td>300.1</td>\n",
       "      <td>300.3</td>\n",
       "      <td>0.000113</td>\n",
       "      <td>0.33</td>\n",
       "      <td>0.000113</td>\n",
       "      <td>-0.937298</td>\n",
       "    </tr>\n",
       "  </tbody>\n",
       "</table>\n",
       "</div>"
      ],
      "text/plain": [
       "       K  impl_volatility         r         q   tau       S cp_flag  \\\n",
       "1  300.1         1.481258  0.022273  0.020794  30.0  908.11       P   \n",
       "2  300.2         1.481091  0.022273  0.020794  30.0  908.11       P   \n",
       "\n",
       "    bsm_price  l_bsm_price  f_bsm_price    l_K    f_K   density  moneyness  \\\n",
       "1  607.318414   607.417728   607.219101  300.0  300.2  0.000113       0.33   \n",
       "2  607.219101   607.318414   607.119789  300.1  300.3  0.000113       0.33   \n",
       "\n",
       "   f_density  cumulative  \n",
       "1   0.000113   -0.937310  \n",
       "2   0.000113   -0.937298  "
      ]
     },
     "execution_count": 17,
     "metadata": {},
     "output_type": "execute_result"
    }
   ],
   "source": [
    "df_int.head(2)"
   ]
  },
  {
   "cell_type": "code",
   "execution_count": 18,
   "metadata": {},
   "outputs": [],
   "source": [
    "## RIGHT-TAIL\n",
    "\n",
    "# Set conditions to merge GEV distribution to RND.\n",
    "# 1: probability of strike price lower than s1 equal to c1.\n",
    "# 2: density at s2 equal to c2.\n",
    "# 3: density at s3 equal to c3.\n",
    "\n",
    "c1, s1 = 1-df_int.iloc[-2,:]['cumulative'], df_int.iloc[-2,:]['K']\n",
    "c2, s2 = df_int.iloc[-2,:]['density'], df_int.iloc[-2,:]['K']\n",
    "c3, s3 = df_int.iloc[-3,:]['density'], df_int.iloc[-3,:]['K']\n",
    "\n",
    "con = (s1, s2, s3, c1, c2, c3)\n",
    "con = [round(i,6) for i in con]\n",
    "con = tuple(con)\n",
    "\n",
    "init, n = leastsq(equations, (1, 1, 0.1), args=con)\n",
    "mu, sigma, eta =  fsolve(equations, init, args=con)\n",
    "right_tail = [GEV(i, mu, sigma, eta ) for i in np.arange(s1, 2000, 0.1)]\n",
    "\n",
    "rt = pd.DataFrame({'K':np.arange(s1, 2000, 0.1),'density':right_tail})"
   ]
  },
  {
   "cell_type": "code",
   "execution_count": 19,
   "metadata": {},
   "outputs": [],
   "source": [
    "## LEFT-TAIL\n",
    "\n",
    "# Set conditions to merge GEV distribution to RND.\n",
    "# 1: probability of strike price lower than s1 equal to c1.\n",
    "# 2: density at s2 equal to c2.\n",
    "# 3: density at s3 equal to c3.\n",
    "\n",
    "c1, s1 = 1+df_int.iloc[1,:]['cumulative'], df_int.iloc[1,:]['K']\n",
    "c2, s2 = df_int.iloc[1,:]['density'], df_int.iloc[1,:]['K']\n",
    "c3, s3 = df_int.iloc[2,:]['density'], df_int.iloc[2,:]['K']\n",
    "\n",
    "con = (s1, s2, s3, c1, c2, c3)\n",
    "con = [round(i,6) for i in con]\n",
    "con = tuple(con)\n",
    "\n",
    "init, n = leastsq(equations, (0.5, 0.5, 0.5), args=con)\n",
    "mu, sigma, eta =  fsolve(equations, init, args=con)\n",
    "left_tail = [GEV(i, mu, sigma, eta ) for i in np.arange(0.1, s1, 0.1)]\n",
    "\n",
    "lt = pd.DataFrame({'K':np.arange(0.1, s1, 0.1),'density':left_tail})"
   ]
  },
  {
   "cell_type": "code",
   "execution_count": 20,
   "metadata": {},
   "outputs": [],
   "source": [
    "den = pd.concat([lt, df_int[['K', 'density']], rt])"
   ]
  },
  {
   "cell_type": "code",
   "execution_count": 21,
   "metadata": {},
   "outputs": [
    {
     "data": {
      "image/png": "[encoded data removed]",
      "text/plain": [
       "<Figure size 720x450 with 1 Axes>"
      ]
     },
     "metadata": {
      "needs_background": "light"
     },
     "output_type": "display_data"
    }
   ],
   "source": [
    "fig, ax = plt.subplots(figsize=(10,10/1.6))\n",
    "ax.plot(den['K'], den['density'], label = 'S&P 500 Risk-Neutral Density', color=blue)\n",
    "\n",
    "# Plot lognormal density for stock prices\n",
    "r_mu = np.dot(den.K.values, den.density.values)/den.density.values.sum()\n",
    "r_var = np.dot((den.K.values- r_mu)**2, den.density.values)/den.density.values.sum()\n",
    "\n",
    "ln_r_mu = np.log(r_mu**2/(r_var + r_mu**2)**0.5)\n",
    "ln_r_var = np.log(1+ (r_var/r_mu**2))\n",
    "\n",
    "lognorm_prices = np.random.lognormal(ln_r_mu, np.sqrt(ln_r_var), 1000000)\n",
    "sns.distplot(lognorm_prices, hist=False, ax=ax, label = 'Lognormal Distribution', color=red)\n",
    "\n",
    "\n",
    "# Add lognormal tails\n",
    "ln_lt = den[den['K']<=np.min(lognorm_prices)]['K'].values\n",
    "ax.plot(ln_lt, [0 for i in ln_lt], color=red)\n",
    "\n",
    "ln_rt = den[den['K']>=np.max(lognorm_prices)]['K'].values\n",
    "ax.plot(ln_rt, [0 for i in ln_rt], color=red)\n",
    "\n",
    "\n",
    "ax.set_xlim(185,1500)\n",
    "ax.set_ylim(-0.0005,0.0069)\n",
    "\n",
    "plt.subplots_adjust(left=None, bottom=None, right=None, top=0.88,\n",
    "                wspace=None, hspace=None)\n",
    "\n",
    "plt.show()"
   ]
  }
 ],
 "metadata": {
  "kernelspec": {
   "display_name": "Python 3",
   "language": "python",
   "name": "python3"
  },
  "language_info": {
   "codemirror_mode": {
    "name": "ipython",
    "version": 3
   },
   "file_extension": ".py",
   "mimetype": "text/x-python",
   "name": "python",
   "nbconvert_exporter": "python",
   "pygments_lexer": "ipython3",
   "version": "3.7.1"
  },
  "toc": {
   "base_numbering": 1,
   "nav_menu": {},
   "number_sections": false,
   "sideBar": true,
   "skip_h1_title": false,
   "title_cell": "Table of Contents",
   "title_sidebar": "Contents",
   "toc_cell": false,
   "toc_position": {},
   "toc_section_display": true,
   "toc_window_display": false
  }
 },
 "nbformat": 4,
 "nbformat_minor": 2
}
